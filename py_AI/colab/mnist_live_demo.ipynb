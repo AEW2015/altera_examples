{
  "nbformat": 4,
  "nbformat_minor": 0,
  "metadata": {
    "colab": {
      "provenance": [],
      "authorship_tag": "ABX9TyNVTw+2Mxb+g0K74Oaj0NQ7",
      "include_colab_link": true
    },
    "kernelspec": {
      "name": "python3",
      "display_name": "Python 3"
    },
    "language_info": {
      "name": "python"
    }
  },
  "cells": [
    {
      "cell_type": "markdown",
      "metadata": {
        "id": "view-in-github",
        "colab_type": "text"
      },
      "source": [
        "<a href=\"https://colab.research.google.com/github/AEW2015/altera_examples/blob/main/py_AI/colab/mnist_live_demo.ipynb\" target=\"_parent\"><img src=\"https://colab.research.google.com/assets/colab-badge.svg\" alt=\"Open In Colab\"/></a>"
      ]
    },
    {
      "cell_type": "markdown",
      "source": [
        "# MNIST Live Demo"
      ],
      "metadata": {
        "id": "-PG_NA7X7J1M"
      }
    },
    {
      "cell_type": "markdown",
      "source": [
        "## MNIST References\n",
        "\n",
        "* [Colab Pytorch example](https://github.com/rafaela00castro/pytorch-hands-on/blob/master/mnist_cnn.ipynb)\n",
        "* [Interactive MNIST Demo](https://adamharley.com/nn_vis/cnn/2d.html)"
      ],
      "metadata": {
        "id": "asle8tGE7PuF"
      }
    },
    {
      "cell_type": "markdown",
      "source": [
        "## Get Dataset"
      ],
      "metadata": {
        "id": "_edc_Nr_73xK"
      }
    },
    {
      "cell_type": "code",
      "execution_count": 1,
      "metadata": {
        "id": "hgk_1pg8BE6N"
      },
      "outputs": [],
      "source": [
        "import numpy as np\n",
        "import matplotlib.pyplot as plt\n",
        "\n",
        "import torch\n",
        "import torch.nn as nn\n",
        "import torch.nn.functional as F\n",
        "import torch.optim as optim\n",
        "from torch.utils.data import random_split, DataLoader\n",
        "\n",
        "from torchvision import datasets, transforms\n",
        "from torchvision.utils import make_grid\n",
        "\n",
        "%matplotlib inline"
      ]
    },
    {
      "cell_type": "code",
      "source": [
        "device = torch.device('cuda:0' if torch.cuda.is_available() else 'cpu')"
      ],
      "metadata": {
        "id": "sUdVj_51BGPg"
      },
      "execution_count": 2,
      "outputs": []
    },
    {
      "cell_type": "code",
      "source": [
        "seed = 15\n",
        "np.random.seed(seed)\n",
        "torch.manual_seed(seed)\n",
        "torch.cuda.manual_seed(seed)\n",
        "torch.backends.cudnn.deterministic=True"
      ],
      "metadata": {
        "id": "Roy2AiNNBJjv"
      },
      "execution_count": 3,
      "outputs": []
    },
    {
      "cell_type": "code",
      "source": [
        "# Custom transform to flatten, pad, and reshape the tensor\n",
        "class FlattenPadAndReshapeTransform:\n",
        "    def __init__(self, target_shape=(3, 16, 17)):\n",
        "        self.target_shape = target_shape\n",
        "        self.target_size = target_shape[0] * target_shape[1] * target_shape[2]  # 3 * 16 * 17 = 816\n",
        "\n",
        "    def __call__(self, tensor):\n",
        "        # Flatten the input tensor to shape [784]\n",
        "        flattened = tensor.view(-1)\n",
        "\n",
        "        # Create a new tensor of the target size filled with zeros\n",
        "        padded = torch.zeros(self.target_size)\n",
        "\n",
        "        # Copy the flattened values into the new padded tensor\n",
        "        padded[:flattened.size(0)] = flattened\n",
        "\n",
        "        # Reshape to the target shape [3, 16, 17]\n",
        "        return padded.view(*self.target_shape)"
      ],
      "metadata": {
        "id": "56myC0rztXNy"
      },
      "execution_count": 4,
      "outputs": []
    },
    {
      "cell_type": "markdown",
      "source": [
        "Adding the extra 2 channels below to match Video DMA on FPGA AI Demo Bitstream"
      ],
      "metadata": {
        "id": "OfQXEWER80AM"
      }
    },
    {
      "cell_type": "code",
      "source": [
        "transform = transforms.Compose([transforms.ToTensor(),\n",
        "                                transforms.Normalize((0.5,), (0.5,)),\n",
        "                                transforms.Lambda(lambda x: x.repeat(3, 1, 1))  # Repeat grayscale 3 times\n",
        "                              ])"
      ],
      "metadata": {
        "id": "Xs5XMmJuBLE3"
      },
      "execution_count": 5,
      "outputs": []
    },
    {
      "cell_type": "code",
      "source": [
        "batch_size = 20\n",
        "num_workers = 4\n",
        "\n",
        "full_train_dataset = datasets.MNIST(root='./data', train=True,\n",
        "                            download=True, transform=transform)\n",
        "\n",
        "test_data = datasets.MNIST(root='./data', train=False,\n",
        "                           download=True, transform=transform)\n",
        "\n",
        "train_data, val_data = random_split(full_train_dataset, [50000, 10000])\n",
        "\n",
        "\n",
        "train_loader = DataLoader(train_data, batch_size=batch_size,\n",
        "                          shuffle=True, num_workers=num_workers)\n",
        "\n",
        "val_loader = DataLoader(val_data, batch_size=batch_size,\n",
        "                          shuffle=False, num_workers=num_workers)\n",
        "\n",
        "test_loader = DataLoader(test_data, batch_size=batch_size,\n",
        "                         shuffle=False, num_workers=num_workers)\n",
        "\n",
        "print('Size of full training dataset: ', len(full_train_dataset))\n",
        "print('Size of training dataset: ', len(train_data))\n",
        "print('Size of valitation dataset: ', len(val_data))\n",
        "print('Size of test dataset: ', len(test_data))"
      ],
      "metadata": {
        "colab": {
          "base_uri": "https://localhost:8080/"
        },
        "id": "0skisaGxBM6H",
        "outputId": "19fc2d9d-9016-47d2-e0d5-fd8ab254b129"
      },
      "execution_count": 6,
      "outputs": [
        {
          "output_type": "stream",
          "name": "stdout",
          "text": [
            "Downloading http://yann.lecun.com/exdb/mnist/train-images-idx3-ubyte.gz\n",
            "Failed to download (trying next):\n",
            "<urlopen error [SSL: CERTIFICATE_VERIFY_FAILED] certificate verify failed: certificate has expired (_ssl.c:1007)>\n",
            "\n",
            "Downloading https://ossci-datasets.s3.amazonaws.com/mnist/train-images-idx3-ubyte.gz\n",
            "Downloading https://ossci-datasets.s3.amazonaws.com/mnist/train-images-idx3-ubyte.gz to ./data/MNIST/raw/train-images-idx3-ubyte.gz\n"
          ]
        },
        {
          "output_type": "stream",
          "name": "stderr",
          "text": [
            "100%|██████████| 9.91M/9.91M [00:00<00:00, 34.3MB/s]\n"
          ]
        },
        {
          "output_type": "stream",
          "name": "stdout",
          "text": [
            "Extracting ./data/MNIST/raw/train-images-idx3-ubyte.gz to ./data/MNIST/raw\n",
            "\n",
            "Downloading http://yann.lecun.com/exdb/mnist/train-labels-idx1-ubyte.gz\n",
            "Failed to download (trying next):\n",
            "<urlopen error [SSL: CERTIFICATE_VERIFY_FAILED] certificate verify failed: certificate has expired (_ssl.c:1007)>\n",
            "\n",
            "Downloading https://ossci-datasets.s3.amazonaws.com/mnist/train-labels-idx1-ubyte.gz\n",
            "Downloading https://ossci-datasets.s3.amazonaws.com/mnist/train-labels-idx1-ubyte.gz to ./data/MNIST/raw/train-labels-idx1-ubyte.gz\n"
          ]
        },
        {
          "output_type": "stream",
          "name": "stderr",
          "text": [
            "100%|██████████| 28.9k/28.9k [00:00<00:00, 964kB/s]"
          ]
        },
        {
          "output_type": "stream",
          "name": "stdout",
          "text": [
            "Extracting ./data/MNIST/raw/train-labels-idx1-ubyte.gz to ./data/MNIST/raw\n",
            "\n",
            "Downloading http://yann.lecun.com/exdb/mnist/t10k-images-idx3-ubyte.gz\n"
          ]
        },
        {
          "output_type": "stream",
          "name": "stderr",
          "text": [
            "\n"
          ]
        },
        {
          "output_type": "stream",
          "name": "stdout",
          "text": [
            "Failed to download (trying next):\n",
            "<urlopen error [SSL: CERTIFICATE_VERIFY_FAILED] certificate verify failed: certificate has expired (_ssl.c:1007)>\n",
            "\n",
            "Downloading https://ossci-datasets.s3.amazonaws.com/mnist/t10k-images-idx3-ubyte.gz\n",
            "Downloading https://ossci-datasets.s3.amazonaws.com/mnist/t10k-images-idx3-ubyte.gz to ./data/MNIST/raw/t10k-images-idx3-ubyte.gz\n"
          ]
        },
        {
          "output_type": "stream",
          "name": "stderr",
          "text": [
            "100%|██████████| 1.65M/1.65M [00:00<00:00, 9.38MB/s]\n"
          ]
        },
        {
          "output_type": "stream",
          "name": "stdout",
          "text": [
            "Extracting ./data/MNIST/raw/t10k-images-idx3-ubyte.gz to ./data/MNIST/raw\n",
            "\n",
            "Downloading http://yann.lecun.com/exdb/mnist/t10k-labels-idx1-ubyte.gz\n",
            "Failed to download (trying next):\n",
            "<urlopen error [SSL: CERTIFICATE_VERIFY_FAILED] certificate verify failed: certificate has expired (_ssl.c:1007)>\n",
            "\n",
            "Downloading https://ossci-datasets.s3.amazonaws.com/mnist/t10k-labels-idx1-ubyte.gz\n",
            "Downloading https://ossci-datasets.s3.amazonaws.com/mnist/t10k-labels-idx1-ubyte.gz to ./data/MNIST/raw/t10k-labels-idx1-ubyte.gz\n"
          ]
        },
        {
          "output_type": "stream",
          "name": "stderr",
          "text": [
            "100%|██████████| 4.54k/4.54k [00:00<00:00, 2.89MB/s]\n"
          ]
        },
        {
          "output_type": "stream",
          "name": "stdout",
          "text": [
            "Extracting ./data/MNIST/raw/t10k-labels-idx1-ubyte.gz to ./data/MNIST/raw\n",
            "\n",
            "Size of full training dataset:  60000\n",
            "Size of training dataset:  50000\n",
            "Size of valitation dataset:  10000\n",
            "Size of test dataset:  10000\n"
          ]
        },
        {
          "output_type": "stream",
          "name": "stderr",
          "text": [
            "/usr/local/lib/python3.10/dist-packages/torch/utils/data/dataloader.py:617: UserWarning: This DataLoader will create 4 worker processes in total. Our suggested max number of worker in current system is 2, which is smaller than what this DataLoader is going to create. Please be aware that excessive worker creation might get DataLoader running slow or even freeze, lower the worker number to avoid potential slowness/freeze if necessary.\n",
            "  warnings.warn(\n"
          ]
        }
      ]
    },
    {
      "cell_type": "code",
      "source": [
        "def imshow(img_tensor):\n",
        "  \"\"\"\n",
        "  function to show an image\n",
        "  \"\"\"\n",
        "  img_tensor = img_tensor / 2 + 0.5     # unnormalize\n",
        "  img_numpy = img_tensor.numpy()        # from tensor to numpy\n",
        "  plt.imshow(np.transpose(img_numpy, (1, 2, 0)))\n",
        "  plt.show()"
      ],
      "metadata": {
        "id": "vtt4S7GwBOOP"
      },
      "execution_count": 7,
      "outputs": []
    },
    {
      "cell_type": "code",
      "source": [
        "data_iter = iter(train_loader)\n",
        "images, labels = next(data_iter)\n",
        "print('(batch size, channels, height, width) ', images.shape)"
      ],
      "metadata": {
        "colab": {
          "base_uri": "https://localhost:8080/"
        },
        "id": "o4CXddv1BP8n",
        "outputId": "f0f738b9-e67f-417d-f728-4b162fcfcaad"
      },
      "execution_count": 8,
      "outputs": [
        {
          "output_type": "stream",
          "name": "stdout",
          "text": [
            "(batch size, channels, height, width)  torch.Size([20, 3, 28, 28])\n"
          ]
        }
      ]
    },
    {
      "cell_type": "code",
      "source": [
        "imshow(make_grid(images, nrow=10))\n",
        "print('LABELS\\n', labels)"
      ],
      "metadata": {
        "colab": {
          "base_uri": "https://localhost:8080/",
          "height": 202
        },
        "id": "2TvhiK1PBRDH",
        "outputId": "045fb83c-2c9f-4601-8e86-0a722d098914"
      },
      "execution_count": 9,
      "outputs": [
        {
          "output_type": "display_data",
          "data": {
            "text/plain": [
              "<Figure size 640x480 with 1 Axes>"
            ],
            "image/png": "[encoded data removed]"
          },
          "metadata": {}
        },
        {
          "output_type": "stream",
          "name": "stdout",
          "text": [
            "LABELS\n",
            " tensor([0, 1, 2, 3, 8, 5, 2, 2, 2, 9, 4, 0, 6, 8, 3, 2, 2, 9, 0, 3])\n"
          ]
        }
      ]
    },
    {
      "cell_type": "markdown",
      "source": [
        "## Design Model"
      ],
      "metadata": {
        "id": "au6AJnL2792D"
      }
    },
    {
      "cell_type": "markdown",
      "source": [
        "Removing the extra 2 channels in the model (costing some performance)"
      ],
      "metadata": {
        "id": "9HmHg2EC86Zz"
      }
    },
    {
      "cell_type": "code",
      "source": [
        "import torch.nn as nn\n",
        "\n",
        "class Channel1Extractor(nn.Module):\n",
        "    def __init__(self):\n",
        "        super(Channel1Extractor, self).__init__()\n",
        "\n",
        "    def forward(self, x):\n",
        "        return x[:, 0:1, :, :]"
      ],
      "metadata": {
        "id": "mi8YyKEcotr8"
      },
      "execution_count": 10,
      "outputs": []
    },
    {
      "cell_type": "code",
      "source": [
        "class ConvNet(nn.Module):\n",
        "\n",
        "  def __init__(self):\n",
        "    super(ConvNet, self).__init__()\n",
        "    self.layer1 = nn.Sequential(\n",
        "        Channel1Extractor(),\n",
        "        nn.Conv2d(in_channels=1, out_channels=10, kernel_size=5, stride=1),\n",
        "        nn.ReLU(),\n",
        "        nn.MaxPool2d(kernel_size=5, stride=2))\n",
        "\n",
        "    self.layer2 = nn.Sequential(\n",
        "        nn.Conv2d(in_channels=10, out_channels=20, kernel_size=3, stride=1),\n",
        "        nn.ReLU(),\n",
        "        nn.MaxPool2d(kernel_size=2, stride=2))\n",
        "\n",
        "    self.fc1 = nn.Linear(20*4*4, 50)\n",
        "    self.fc2 = nn.Linear(50, 10)\n",
        "    self.dropout = nn.Dropout(0.2)\n",
        "\n",
        "  def forward(self, x):\n",
        "    x = self.layer1(x)\n",
        "    x = self.layer2(x)\n",
        "    x = x.view(-1, 20*4*4) # Flatten layer\n",
        "    x = F.relu(self.fc1(x))\n",
        "    x = self.dropout(x)\n",
        "    x = self.fc2(x)\n",
        "\n",
        "    return x"
      ],
      "metadata": {
        "id": "r81gagOZBSSP"
      },
      "execution_count": 11,
      "outputs": []
    },
    {
      "cell_type": "code",
      "source": [
        "model = ConvNet().to(device)\n",
        "print(model)"
      ],
      "metadata": {
        "colab": {
          "base_uri": "https://localhost:8080/"
        },
        "id": "eyoR6rYDBT_X",
        "outputId": "0519b93c-d7ac-45ab-b843-90b50b27271a"
      },
      "execution_count": 12,
      "outputs": [
        {
          "output_type": "stream",
          "name": "stdout",
          "text": [
            "ConvNet(\n",
            "  (layer1): Sequential(\n",
            "    (0): Channel1Extractor()\n",
            "    (1): Conv2d(1, 10, kernel_size=(5, 5), stride=(1, 1))\n",
            "    (2): ReLU()\n",
            "    (3): MaxPool2d(kernel_size=5, stride=2, padding=0, dilation=1, ceil_mode=False)\n",
            "  )\n",
            "  (layer2): Sequential(\n",
            "    (0): Conv2d(10, 20, kernel_size=(3, 3), stride=(1, 1))\n",
            "    (1): ReLU()\n",
            "    (2): MaxPool2d(kernel_size=2, stride=2, padding=0, dilation=1, ceil_mode=False)\n",
            "  )\n",
            "  (fc1): Linear(in_features=320, out_features=50, bias=True)\n",
            "  (fc2): Linear(in_features=50, out_features=10, bias=True)\n",
            "  (dropout): Dropout(p=0.2, inplace=False)\n",
            ")\n"
          ]
        }
      ]
    },
    {
      "cell_type": "markdown",
      "source": [
        "## Train Model"
      ],
      "metadata": {
        "id": "8YXu9oDZ8CRn"
      }
    },
    {
      "cell_type": "code",
      "source": [
        "criterion = nn.CrossEntropyLoss()\n",
        "optimizer = optim.SGD(model.parameters(), lr=0.001)"
      ],
      "metadata": {
        "id": "pq_22u12BVr3"
      },
      "execution_count": 13,
      "outputs": []
    },
    {
      "cell_type": "code",
      "source": [
        "%%time\n",
        "num_epochs = 15\n",
        "train_losses, val_losses = [], []\n",
        "\n",
        "for epoch in range(1, num_epochs + 1):\n",
        "    train_loss, val_loss = 0.0, 0.0\n",
        "\n",
        "    model.train() # prepare model for training\n",
        "    for inputs, labels in train_loader:\n",
        "        inputs, labels = inputs.to(device), labels.to(device)\n",
        "\n",
        "        # clear the gradients\n",
        "        optimizer.zero_grad()\n",
        "        # forward pass: compute predicted outputs\n",
        "        output = model(inputs)\n",
        "        # calculate the loss\n",
        "        loss = criterion(output, labels)\n",
        "        # backward pass: compute gradient\n",
        "        loss.backward()\n",
        "        # perform a optimization step (weight update)\n",
        "        optimizer.step()\n",
        "        # update running training loss\n",
        "        train_loss += loss.item()\n",
        "\n",
        "    model.eval() # validate the model\n",
        "    with torch.no_grad():\n",
        "        for inputs, labels in val_loader:\n",
        "            inputs, labels = inputs.to(device), labels.to(device)\n",
        "            output = model(inputs)\n",
        "            loss = criterion(output, labels)\n",
        "            val_loss += loss.item()\n",
        "\n",
        "    # calculate average loss over an epoch\n",
        "    train_loss = train_loss/len(train_loader)\n",
        "    val_loss = val_loss/len(val_loader)\n",
        "    train_losses.append(train_loss)\n",
        "    val_losses.append(val_loss)\n",
        "\n",
        "    print('Epoch: {} \\tTraining Loss: {:.6f} \\tValidation Loss: {:.6f}'.format(\n",
        "        epoch, train_loss, val_loss))"
      ],
      "metadata": {
        "colab": {
          "base_uri": "https://localhost:8080/"
        },
        "id": "ZR_WSNbtBXzQ",
        "outputId": "d18fc0fb-21dd-40ed-eb94-f9f184de8e59"
      },
      "execution_count": 14,
      "outputs": [
        {
          "output_type": "stream",
          "name": "stdout",
          "text": [
            "Epoch: 1 \tTraining Loss: 2.261576 \tValidation Loss: 2.186220\n",
            "Epoch: 2 \tTraining Loss: 1.691484 \tValidation Loss: 0.857119\n",
            "Epoch: 3 \tTraining Loss: 0.690177 \tValidation Loss: 0.422630\n",
            "Epoch: 4 \tTraining Loss: 0.422145 \tValidation Loss: 0.275702\n",
            "Epoch: 5 \tTraining Loss: 0.312270 \tValidation Loss: 0.208878\n",
            "Epoch: 6 \tTraining Loss: 0.249340 \tValidation Loss: 0.172952\n",
            "Epoch: 7 \tTraining Loss: 0.210235 \tValidation Loss: 0.148682\n",
            "Epoch: 8 \tTraining Loss: 0.183490 \tValidation Loss: 0.131336\n",
            "Epoch: 9 \tTraining Loss: 0.162789 \tValidation Loss: 0.120263\n",
            "Epoch: 10 \tTraining Loss: 0.150512 \tValidation Loss: 0.111598\n",
            "Epoch: 11 \tTraining Loss: 0.140193 \tValidation Loss: 0.104420\n",
            "Epoch: 12 \tTraining Loss: 0.130647 \tValidation Loss: 0.098664\n",
            "Epoch: 13 \tTraining Loss: 0.122631 \tValidation Loss: 0.094519\n",
            "Epoch: 14 \tTraining Loss: 0.117196 \tValidation Loss: 0.090343\n",
            "Epoch: 15 \tTraining Loss: 0.110120 \tValidation Loss: 0.087708\n",
            "CPU times: user 9min 7s, sys: 27.6 s, total: 9min 34s\n",
            "Wall time: 12min 39s\n"
          ]
        }
      ]
    },
    {
      "cell_type": "markdown",
      "source": [
        "## Export Model with OpenVINO"
      ],
      "metadata": {
        "id": "dm5ry0wt8EYw"
      }
    },
    {
      "cell_type": "code",
      "source": [
        "pip install openvino==2023.3.0"
      ],
      "metadata": {
        "colab": {
          "base_uri": "https://localhost:8080/"
        },
        "id": "cGBQG4n5BY0n",
        "outputId": "e5e42dde-2075-4430-cbf6-b728239b8707"
      },
      "execution_count": 15,
      "outputs": [
        {
          "output_type": "stream",
          "name": "stdout",
          "text": [
            "Collecting openvino==2023.3.0\n",
            "  Downloading openvino-2023.3.0-13775-cp310-cp310-manylinux2014_x86_64.whl.metadata (8.8 kB)\n",
            "Requirement already satisfied: numpy>=1.16.6 in /usr/local/lib/python3.10/dist-packages (from openvino==2023.3.0) (1.26.4)\n",
            "Collecting openvino-telemetry>=2023.2.1 (from openvino==2023.3.0)\n",
            "  Downloading openvino_telemetry-2024.1.0-py3-none-any.whl.metadata (2.3 kB)\n",
            "Downloading openvino-2023.3.0-13775-cp310-cp310-manylinux2014_x86_64.whl (38.3 MB)\n",
            "\u001b[2K   \u001b[90m━━━━━━━━━━━━━━━━━━━━━━━━━━━━━━━━━━━━━━━━\u001b[0m \u001b[32m38.3/38.3 MB\u001b[0m \u001b[31m10.3 MB/s\u001b[0m eta \u001b[36m0:00:00\u001b[0m\n",
            "\u001b[?25hDownloading openvino_telemetry-2024.1.0-py3-none-any.whl (23 kB)\n",
            "Installing collected packages: openvino-telemetry, openvino\n",
            "Successfully installed openvino-2023.3.0 openvino-telemetry-2024.1.0\n"
          ]
        }
      ]
    },
    {
      "cell_type": "code",
      "source": [
        "import openvino as ov"
      ],
      "metadata": {
        "id": "RVyWq40LBcjf"
      },
      "execution_count": 16,
      "outputs": []
    },
    {
      "cell_type": "code",
      "source": [
        "ov_model = ov.convert_model(model,input=[1,3, 28, 28])"
      ],
      "metadata": {
        "id": "McoUqzmQBeCv"
      },
      "execution_count": 17,
      "outputs": []
    },
    {
      "cell_type": "code",
      "source": [
        "ov.save_model(ov_model, 'mnist_3x.xml')"
      ],
      "metadata": {
        "id": "1rzZxjVCBi0n"
      },
      "execution_count": 18,
      "outputs": []
    },
    {
      "cell_type": "markdown",
      "source": [
        "## DLA Compile Commands\n",
        "\n",
        "Example command for the FPGA AI DLA compiler"
      ],
      "metadata": {
        "id": "v2xan2-r8ZCy"
      }
    },
    {
      "cell_type": "markdown",
      "source": [
        "```\n",
        "\n",
        "dla_compiler --march $COREDLA_ROOT/example_architectures/AGX7_Performance.arch --network-file ./mnist_3x.xml --foutput-format=open_vino_hetero --o $COREDLA_WORK/demo/mnist_perf.bin --batch-size=1 --fanalyze-performance\n",
        "\n",
        "dla_compiler --march $COREDLA_ROOT/example_architectures/AGX7_Performance.arch --network-file ./mnist_3x.xml --foutput-format=open_vino_hetero --o $COREDLA_WORK/demo/mnist_stream.bin --batch-size=1 --fanalyze-performance --ffolding-option=0\n",
        "\n",
        "\n",
        "uio-devices restart\n",
        "export compiled_model=~/resnet-50-tf/mnist_perf.bin\n",
        "export imgdir=~/resnet-50-tf/sample_images\n",
        "export archfile=~/resnet-50-tf/AGX7_Performance.arch\n",
        "cd ~/app\n",
        "export COREDLA_ROOT=/home/root/app\n",
        "./dla_benchmark -b=1 -cm $compiled_model -d=HETERO:FPGA,CPU -i $imgdir -niter=5 -plugins_xml_file ./plugins.xml -arch_file $archfile -api=async -perf_est  -nireq=4 -bgr\n",
        "\n",
        "\n",
        "dla_compiler --fanalyze-area --march $COREDLA_ROOT/example_architectures/AGX7_Performance.arch\n",
        "\n",
        "dla_compiler --gen-arch --mmax-resources=427200,2713,1518 --gen-min-sb=2048 --network-file ./mnist_3x.xml --march=$COREDLA_ROOT/example_architectures/AGX7_Performance.arch --mmax-resources-alm-util=75 --fassumed-fmax-core=300 --network-weightings=1 2\n",
        "\n",
        "dla_compiler --fanalyze-area --march ./generated_arch.arch\n",
        "\n",
        "dla_compiler --gen-arch --mmax-resources=427200,2713,1518 --gen-min-sb=2048 --network-file ./mnist_3x.xml --march=$COREDLA_ROOT/example_architectures/AGX7_Performance.arch --mmax-resources-alm-util=75 --fassumed-fmax-core=300 --network-weightings=1 --mtarget-fps=100.0\n",
        "\n",
        "dla_compiler --fanalyze-area --march ./generated_arch.arch\n",
        "```"
      ],
      "metadata": {
        "id": "9AGfqhYO8b0Y"
      }
    }
  ]
}