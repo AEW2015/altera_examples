{
 "cells": [
  {
   "cell_type": "code",
   "execution_count": 23,
   "metadata": {},
   "outputs": [],
   "source": [
    "import importlib.util\n",
    "import sys\n",
    "spec = importlib.util.spec_from_file_location(\"jupyter_drawing_pad\", \"../../../jupyter-drawing-pad/jupyter-drawing-pad/jupyter_drawing_pad/example.py\")\n"
   ]
  },
  {
   "cell_type": "code",
   "execution_count": 32,
   "metadata": {},
   "outputs": [],
   "source": [
    "from ipywidgets import HBox, VBox, Button, Text\n",
    "from IPython import display\n",
    "import numpy as np"
   ]
  },
  {
   "cell_type": "code",
   "execution_count": 33,
   "metadata": {},
   "outputs": [],
   "source": [
    "foo = importlib.util.module_from_spec(spec)\n",
    "sys.modules[\"jupyter_drawing_pad\"] = foo\n",
    "spec.loader.exec_module(foo)"
   ]
  },
  {
   "cell_type": "code",
   "execution_count": null,
   "metadata": {},
   "outputs": [],
   "source": []
  },
  {
   "cell_type": "code",
   "execution_count": 35,
   "metadata": {},
   "outputs": [],
   "source": [
    "class CustomBox(HBox):\n",
    "    def __init__(self):\n",
    "        drawing_pad = foo.DrawingPad()\n",
    "        button = Button(description=\"Clear\", tooltip=\"Click me\")\n",
    "        save_button = Button(description=\"Save\", tooltip=\"Click me\")\n",
    "        login_button = Button(description=\"Login\", tooltip=\"Click me\")\n",
    "        text_area = Text(value='', placeholder='Type your name', description='Name:', disabled=False)\n",
    "        button.on_click(lambda b : self.clean())\n",
    "        save_button.on_click(lambda b : self.set_saved())\n",
    "        login_button.on_click(lambda b : self.check())\n",
    "        buttons = VBox([text_area, button, save_button, login_button])\n",
    "        self.drawing_pad = drawing_pad\n",
    "        self.text_area = text_area\n",
    "        self.__saved = {}\n",
    "        super().__init__([drawing_pad, buttons])\n",
    "\n",
    "    def clean(self):\n",
    "        self.drawing_pad.clear()\n",
    "        self.text_area.value=\"\"\n",
    "\n",
    "    def is_empty(self):\n",
    "        return len(self.drawing_pad.data[0])==0\n",
    "\n",
    "    def set_saved(self):\n",
    "        name = self.text_area.value\n",
    "        self.__saved[name] = self.drawing_pad.data\n",
    "        self.clean()\n",
    "        print('Your signature was saved, ' + str(name))\n",
    "    \n",
    "    def get_saved(self):\n",
    "        return self.__saved\n",
    "    \n",
    "    def renormalize(self,t):\n",
    "        t = (t-t[0])/(t[-1]-t[0])\n",
    "        return t\n",
    "\n",
    "    def value(self,t, list_x, list_y, list_t):\n",
    "        idx = (np.abs(list_t-t)).argmin()\n",
    "        return np.array([list_x[idx], list_y[idx]])\n",
    "\n",
    "    def value_der(self,t, list_x, list_y, list_t):\n",
    "        idx = (np.abs(list_t-t)).argmin()\n",
    "        return np.array([(list_x[idx]-list_x[idx-1])/(list_t[idx]-list_t[idx-1]), \n",
    "                        (list_y[idx]-list_y[idx-1])/(list_t[idx]-list_t[idx-1])])\n",
    "\n",
    "    def distance(self,x, y):\n",
    "        return np.linalg.norm(x-y)\n",
    "\n",
    "    def distance_total(self,list_x, list_y, list_t, list_x_prime, list_y_prime, list_t_prime):\n",
    "        grid_time = np.linspace(0, 1, 100)\n",
    "        value_tot = sum([self.distance(self.value(t, list_x, list_y, list_t), self.value(t, list_x_prime, list_y_prime, list_t_prime)) for t in grid_time])\n",
    "        value_der = sum([self.distance(self.value_der(t, list_x, list_y, list_t), self.value_der(t, list_x_prime, list_y_prime, list_t_prime)) for t in grid_time])\n",
    "        # print(value_der)\n",
    "        return value_tot + value_der / 15\n",
    "\n",
    "    def normalize_all(self,x,y,t):\n",
    "        x = np.array(x)\n",
    "        y = np.array(y)\n",
    "        t = np.array(t)\n",
    "        list_t_norm = self.renormalize(t)\n",
    "        list_x_norm = (x - np.mean(x))/(np.std(x))\n",
    "        list_y_norm = (y - np.mean(y))/(np.std(y))\n",
    "        return (list_x_norm, list_y_norm, list_t_norm)\n"
   ]
  },
  {
   "cell_type": "code",
   "execution_count": null,
   "metadata": {},
   "outputs": [],
   "source": [
    "widget = CustomBox()\n",
    "widget.drawing_pad"
   ]
  },
  {
   "cell_type": "code",
   "execution_count": null,
   "metadata": {},
   "outputs": [],
   "source": [
    "display(widget)"
   ]
  },
  {
   "cell_type": "code",
   "execution_count": 37,
   "metadata": {},
   "outputs": [],
   "source": [
    "import ipywidgets as widgets"
   ]
  },
  {
   "cell_type": "code",
   "execution_count": 38,
   "metadata": {},
   "outputs": [],
   "source": [
    "int_range = widgets.IntSlider(\n",
    "    value=7,\n",
    "    min=0,\n",
    "    max=0x3f,\n",
    "    step=1,\n",
    "    description='Test:',\n",
    "    disabled=False,\n",
    "    continuous_update=True,\n",
    "    orientation='horizontal',\n",
    "    readout=True,\n",
    "    readout_format='d'\n",
    ")"
   ]
  },
  {
   "cell_type": "code",
   "execution_count": null,
   "metadata": {},
   "outputs": [],
   "source": [
    "int_range"
   ]
  },
  {
   "cell_type": "code",
   "execution_count": 25,
   "metadata": {},
   "outputs": [],
   "source": [
    "%gui tk\n",
    "import tkinter as tk\n",
    "from tkinter import ttk\n",
    "import numpy as np\n",
    "from PIL import Image, ImageDraw"
   ]
  },
  {
   "cell_type": "code",
   "execution_count": 42,
   "metadata": {},
   "outputs": [],
   "source": [
    "import socket\n",
    "send_address = ('192.168.0.180', 12345)\n",
    "sock = socket.socket(socket.AF_INET, socket.SOCK_DGRAM)"
   ]
  },
  {
   "cell_type": "code",
   "execution_count": null,
   "metadata": {},
   "outputs": [
    {
     "name": "stdout",
     "output_type": "stream",
     "text": [
      "Numpy Array Shape: (3, 28, 28)\n",
      "0\n",
      "Numpy Array Shape: (3, 28, 28)\n",
      "0\n",
      "Numpy Array Shape: (3, 28, 28)\n",
      "255\n",
      "Numpy Array Shape: (3, 28, 28)\n",
      "0\n",
      "Numpy Array Shape: (3, 28, 28)\n",
      "0\n",
      "Numpy Array Shape: (3, 28, 28)\n",
      "0\n",
      "Numpy Array Shape: (3, 28, 28)\n",
      "0\n",
      "Numpy Array Shape: (3, 28, 28)\n",
      "0\n",
      "Numpy Array Shape: (3, 28, 28)\n",
      "0\n"
     ]
    }
   ],
   "source": [
    "# Initialize main window\n",
    "root = tk.Tk()\n",
    "root.title(\"Tkinter Drawing Pad\")\n",
    "\n",
    "# Global variables\n",
    "brush_size = 30  # Default brush size\n",
    "\n",
    "def paint(event):\n",
    "    \"\"\"Draw on the canvas with the current brush size.\"\"\"\n",
    "    x1, y1 = (event.x - brush_size), (event.y - brush_size)\n",
    "    x2, y2 = (event.x + brush_size), (event.y + brush_size)\n",
    "    canvas.create_oval(x1, y1, x2, y2, fill='white', outline='white')\n",
    "\n",
    "def canvas_to_array(canvas):\n",
    "    \"\"\"Convert the canvas content to a NumPy array without Ghostscript.\"\"\"\n",
    "    # Create a blank white image the same size as the canvas\n",
    "    canvas_width = canvas.winfo_width()\n",
    "    canvas_height = canvas.winfo_height()\n",
    "    image = Image.new(\"RGB\", (canvas_width, canvas_height), \"black\")\n",
    "    draw = ImageDraw.Draw(image)\n",
    "\n",
    "    # Iterate through canvas items and draw them on the image\n",
    "    for item in canvas.find_all():\n",
    "        coords = canvas.coords(item)\n",
    "        color = canvas.itemcget(item, \"fill\")\n",
    "        draw.ellipse(coords, fill=color, outline=color)\n",
    "\n",
    "    # Resize the image to (29, 29)\n",
    "    image = image.resize((28, 28))\n",
    "\n",
    "    # Convert the image to a NumPy array and reorder to (3, 29, 29)\n",
    "    np_array = np.array(image).astype(np.uint8)\n",
    "    #np_array = np_array.transpose(2, 0, 1)  # Convert to (3, 29, 29)\n",
    "\n",
    "    \n",
    "    return np_array\n",
    "\n",
    "def save_as_numpy():\n",
    "    \"\"\"Save the canvas content as a NumPy array and print its shape.\"\"\"\n",
    "    np_array = canvas_to_array(canvas)  # Convert to NumPy array\n",
    "    print(\"Numpy Array Shape:\", np_array.shape)\n",
    "    print(np_array[0][0][0])  # Print for debugging\n",
    "\n",
    "    # Ensure the array is C-contiguous (to avoid errors)\n",
    "    np_array = np.ascontiguousarray(np_array)\n",
    "\n",
    "    # Convert the array to bytes\n",
    "    data = np_array.tobytes()\n",
    "    sock.sendto(data, send_address)\n",
    "\n",
    "def clear_canvas():\n",
    "    \"\"\"Clear all drawings on the canvas.\"\"\"\n",
    "    canvas.delete(\"all\")  # Remove all items from the canvas\n",
    "\n",
    "def quit_app():\n",
    "    \"\"\"Exit the application.\"\"\"\n",
    "    root.destroy()  # Stop the event loop and close the window\n",
    "    root.quit()\n",
    "\n",
    "# Create a canvas to draw on\n",
    "canvas = tk.Canvas(root, bg='black', width=500, height=500)\n",
    "canvas.pack()\n",
    "\n",
    "# Bind the paint function to left mouse button clicks and movement\n",
    "canvas.bind(\"<B1-Motion>\", paint)\n",
    "\n",
    "# Save button to convert the drawing to a NumPy array\n",
    "save_button = tk.Button(root, text=\"Save as NumPy Array\", command=save_as_numpy)\n",
    "save_button.pack()\n",
    "\n",
    "# Clear button to reset the canvas\n",
    "clear_button = tk.Button(root, text=\"Clear Canvas\", command=clear_canvas)\n",
    "clear_button.pack()\n",
    "\n",
    "# Quit button to exit the application\n",
    "quit_button = tk.Button(root, text=\"Quit\", command=quit_app)\n",
    "quit_button.pack()\n",
    "\n",
    "# Run the Tkinter event loop\n",
    "root.mainloop()"
   ]
  }
 ],
 "metadata": {
  "kernelspec": {
   "display_name": "Python 3",
   "language": "python",
   "name": "python3"
  },
  "language_info": {
   "codemirror_mode": {
    "name": "ipython",
    "version": 3
   },
   "file_extension": ".py",
   "mimetype": "text/x-python",
   "name": "python",
   "nbconvert_exporter": "python",
   "pygments_lexer": "ipython3",
   "version": "3.11.9"
  }
 },
 "nbformat": 4,
 "nbformat_minor": 2
}
