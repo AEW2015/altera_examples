{
 "cells": [
  {
   "cell_type": "code",
   "execution_count": 1,
   "metadata": {},
   "outputs": [],
   "source": [
    "import cv2\n",
    "import numpy as np\n",
    "import urllib.request\n",
    "\n",
    "def url_to_image(url):\n",
    "    # Download the image\n",
    "    resp = urllib.request.urlopen(url)\n",
    "\n",
    "    # Convert the image to a NumPy array\n",
    "    image = np.asarray(bytearray(resp.read()), dtype=\"uint8\")\n",
    "\n",
    "    # Decode the image using OpenCV\n",
    "    image = cv2.imdecode(image, cv2.IMREAD_COLOR)\n",
    "\n",
    "    return image\n",
    "\n",
    "# Example usage\n"
   ]
  },
  {
   "cell_type": "code",
   "execution_count": 2,
   "metadata": {},
   "outputs": [],
   "source": [
    "url = \"https://www.udottraffic.utah.gov/map/Cctv/6--1\"\n",
    "img = url_to_image(url)\n"
   ]
  },
  {
   "cell_type": "code",
   "execution_count": null,
   "metadata": {},
   "outputs": [],
   "source": [
    "# Display the image\n",
    "import matplotlib.pyplot as plt\n",
    "plt.imshow(img)\n",
    "plt.show()"
   ]
  },
  {
   "cell_type": "code",
   "execution_count": 4,
   "metadata": {},
   "outputs": [],
   "source": [
    "import socket\n",
    "send_address = ('192.168.0.94', 12345)\n",
    "sock = socket.socket(socket.AF_INET, socket.SOCK_DGRAM)\n"
   ]
  },
  {
   "cell_type": "code",
   "execution_count": null,
   "metadata": {},
   "outputs": [],
   "source": [
    "import random\n",
    "import time\n",
    "trys = 100\n",
    "current_time_seconds = time.time()\n",
    "for i in range(trys):\n",
    "    url_2_test = random.randint(1, 1000)\n",
    "    url = \"https://www.udottraffic.utah.gov/map/Cctv/\"+str(url_2_test)+\"--1\"  \n",
    "    #print(i,url)      \n",
    "    try:\n",
    "        frame = url_to_image(url)\n",
    "    except:\n",
    "       continue\n",
    "    if frame is None:\n",
    "        continue\n",
    "    if frame.shape[0]<416 or frame.shape[1]<416:\n",
    "        continue\n",
    "    print(i,frame.shape,url)\n",
    "    frame_x_c = int(frame.shape[1]/2)\n",
    "    frame_y_c = int(frame.shape[0]/2)\n",
    "\n",
    "    img_resized = frame[frame_y_c-208:frame_y_c+208, frame_x_c-208:frame_x_c+208]\n",
    "\n",
    "    _, encoded_frame = cv2.imencode('.jpeg', img_resized,[cv2.IMWRITE_JPEG_QUALITY, 50])\n",
    "\n",
    "    _, frame = cv2.imencode('.jpeg', frame)\n",
    "\n",
    "    next_time_seconds = time.time()\n",
    "    time_wasted = next_time_seconds-current_time_seconds\n",
    "    if (time_wasted<2):\n",
    "        time.sleep(2-time_wasted)\n",
    "\n",
    "    sock.sendto(encoded_frame, send_address)\n",
    "    current_time_seconds = time.time()\n",
    "\n",
    "\n",
    "\n",
    "print(\"DONE!\")"
   ]
  }
 ],
 "metadata": {
  "kernelspec": {
   "display_name": "Python 3",
   "language": "python",
   "name": "python3"
  },
  "language_info": {
   "codemirror_mode": {
    "name": "ipython",
    "version": 3
   },
   "file_extension": ".py",
   "mimetype": "text/x-python",
   "name": "python",
   "nbconvert_exporter": "python",
   "pygments_lexer": "ipython3",
   "version": "3.11.9"
  }
 },
 "nbformat": 4,
 "nbformat_minor": 2
}
